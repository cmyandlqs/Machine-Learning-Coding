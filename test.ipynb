{
 "cells": [
  {
   "cell_type": "code",
   "execution_count": 2,
   "id": "16b43b24",
   "metadata": {},
   "outputs": [
    {
     "data": {
      "text/plain": [
       "['.jpg']"
      ]
     },
     "execution_count": 2,
     "metadata": {},
     "output_type": "execute_result"
    }
   ],
   "source": [
    "import os\n",
    "from pathlib import Path\n",
    "\n",
    "input_path = '/home/sikm/PythonProject/Machine_Learning/Machine-Learning-Coding/K_Nearest_Neighbor/data/Gray_Images/image1.jpg'\n",
    "\n",
    "Path(input_path).suffixes"
   ]
  },
  {
   "cell_type": "code",
   "execution_count": null,
   "id": "c58ce38f",
   "metadata": {},
   "outputs": [],
   "source": []
  }
 ],
 "metadata": {
  "kernelspec": {
   "display_name": "yolov11",
   "language": "python",
   "name": "python3"
  },
  "language_info": {
   "codemirror_mode": {
    "name": "ipython",
    "version": 3
   },
   "file_extension": ".py",
   "mimetype": "text/x-python",
   "name": "python",
   "nbconvert_exporter": "python",
   "pygments_lexer": "ipython3",
   "version": "3.11.13"
  }
 },
 "nbformat": 4,
 "nbformat_minor": 5
}
